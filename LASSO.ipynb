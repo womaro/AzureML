{
 "cells": [
  {
   "cell_type": "code",
   "execution_count": 1,
   "id": "2a25ef75",
   "metadata": {},
   "outputs": [],
   "source": [
    "import pandas as pd\n",
    "from sklearn.linear_model import Lasso\n",
    "from sklearn.model_selection import train_test_split\n",
    "from sklearn.metrics import r2_score"
   ]
  },
  {
   "cell_type": "code",
   "execution_count": 2,
   "id": "1108e2bc",
   "metadata": {},
   "outputs": [],
   "source": [
    "# Sample dataset: Study hours, previous exam scores, and pass/fail labels\n",
    "data = {\n",
    "    'StudyHours': [1, 2, 3, 4, 5, 6, 7, 8, 9, 10],\n",
    "    'PrevExamScore': [30, 40, 45, 50, 60, 65, 70, 75, 80, 85],\n",
    "    'Pass': [0, 0, 0, 0, 0, 1, 1, 1, 1, 1]  # 0 = Fail, 1 = Pass\n",
    "}\n",
    "\n",
    "df = pd.DataFrame(data)\n",
    "\n",
    "# Features and target variable\n",
    "X = df[['StudyHours', 'PrevExamScore']]  # Features\n",
    "y = df['Pass']  # Target variable"
   ]
  },
  {
   "cell_type": "code",
   "execution_count": 3,
   "id": "97b5b0bd",
   "metadata": {},
   "outputs": [],
   "source": [
    "# Split the data into training and testing sets (80% training, 20% testing)\n",
    "X_train, X_test, y_train, y_test = train_test_split(X, y, test_size=0.2, random_state=42)"
   ]
  },
  {
   "cell_type": "code",
   "execution_count": 4,
   "id": "2a919258",
   "metadata": {},
   "outputs": [
    {
     "name": "stdout",
     "output_type": "stream",
     "text": [
      "R-squared score: 0.9997884297520662\n"
     ]
    }
   ],
   "source": [
    "# Initialize the LASSO model with alpha (regularization parameter)\n",
    "lasso_model = Lasso(alpha=0.1)\n",
    "\n",
    "# Train the model on the training data\n",
    "lasso_model.fit(X_train, y_train)\n",
    "\n",
    "# Make predictions on the test data\n",
    "y_pred = lasso_model.predict(X_test)\n",
    "\n",
    "# Evaluate the model's performance using R-squared\n",
    "r2 = r2_score(y_test, y_pred)\n",
    "print(f'R-squared score: {r2}')"
   ]
  },
  {
   "cell_type": "code",
   "execution_count": 5,
   "id": "79a56106",
   "metadata": {},
   "outputs": [
    {
     "name": "stdout",
     "output_type": "stream",
     "text": [
      "LASSO Coefficients: [0.         0.02463636]\n"
     ]
    }
   ],
   "source": [
    "# Display the coefficients of the features\n",
    "print(f'LASSO Coefficients: {lasso_model.coef_}')"
   ]
  },
  {
   "cell_type": "code",
   "execution_count": 6,
   "id": "71f309c2",
   "metadata": {},
   "outputs": [
    {
     "name": "stdout",
     "output_type": "stream",
     "text": [
      "Alpha: 0.01, R-squared score: 0.9981491660809606, Coefficients: [0.08153909 0.01180619]\n",
      "Alpha: 0.05, R-squared score: 0.9999471074380165, Coefficients: [0.         0.02481818]\n",
      "Alpha: 0.1, R-squared score: 0.9997884297520662, Coefficients: [0.         0.02463636]\n",
      "Alpha: 0.5, R-squared score: 0.9947107438016529, Coefficients: [0.         0.02318182]\n",
      "Alpha: 1.0, R-squared score: 0.9788429752066116, Coefficients: [0.         0.02136364]\n"
     ]
    }
   ],
   "source": [
    "# Try different alpha values and compare the results\n",
    "for alpha in [0.01, 0.05, 0.1, 0.5, 1.0]:\n",
    "    lasso_model = Lasso(alpha=alpha)\n",
    "    lasso_model.fit(X_train, y_train)\n",
    "    y_pred = lasso_model.predict(X_test)\n",
    "    r2 = r2_score(y_test, y_pred)\n",
    "    print(f'Alpha: {alpha}, R-squared score: {r2}, Coefficients: {lasso_model.coef_}')"
   ]
  }
 ],
 "metadata": {
  "kernelspec": {
   "display_name": "Python 3",
   "language": "python",
   "name": "python3"
  },
  "language_info": {
   "codemirror_mode": {
    "name": "ipython",
    "version": 3
   },
   "file_extension": ".py",
   "mimetype": "text/x-python",
   "name": "python",
   "nbconvert_exporter": "python",
   "pygments_lexer": "ipython3",
   "version": "3.12.1"
  }
 },
 "nbformat": 4,
 "nbformat_minor": 5
}
